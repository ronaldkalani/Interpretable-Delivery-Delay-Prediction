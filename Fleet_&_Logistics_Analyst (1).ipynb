{
  "nbformat": 4,
  "nbformat_minor": 0,
  "metadata": {
    "colab": {
      "provenance": []
    },
    "kernelspec": {
      "name": "python3",
      "display_name": "Python 3"
    },
    "language_info": {
      "name": "python"
    }
  },
  "cells": [
    {
      "cell_type": "markdown",
      "source": [
        "**Interpretable AI System for Uncertainty-Aware Delivery Delay Prediction in Fleet Logistics Using SHAP and Probabilistic Modeling**"
      ],
      "metadata": {
        "id": "CwNyzMk0wCDu"
      }
    },
    {
      "cell_type": "markdown",
      "source": [
        "**Goal**"
      ],
      "metadata": {
        "id": "9VNK6cvTwLVv"
      }
    },
    {
      "cell_type": "markdown",
      "source": [
        "To build an interpretable machine learning model that predicts delivery delays and quantifies uncertainty, supporting proactive decision-making in fleet management."
      ],
      "metadata": {
        "id": "5ySzDpXnwRot"
      }
    },
    {
      "cell_type": "markdown",
      "source": [
        "**Intended Audience**\n"
      ],
      "metadata": {
        "id": "VoFC3jTHwXGt"
      }
    },
    {
      "cell_type": "markdown",
      "source": [
        "1. AI/ML Research Analysts\n",
        "\n",
        "2. Fleet and Logistics Managers\n",
        "\n",
        "3. Data Scientists in Transportation\n",
        "\n",
        "4. Business Intelligence Teams"
      ],
      "metadata": {
        "id": "dST3XlKNwXZ9"
      }
    },
    {
      "cell_type": "markdown",
      "source": [
        "**Strategy & Pipeline Steps**"
      ],
      "metadata": {
        "id": "JpncXSPHwX_t"
      }
    },
    {
      "cell_type": "markdown",
      "source": [
        "**Step 1: Mount Google Drive and Load Dataset**"
      ],
      "metadata": {
        "id": "Jt4mUEEHwZZJ"
      }
    },
    {
      "cell_type": "code",
      "execution_count": 1,
      "metadata": {
        "id": "7LaYEkv4tKoH",
        "colab": {
          "base_uri": "https://localhost:8080/",
          "height": 464
        },
        "outputId": "4a56323b-7b0b-4850-df97-1dfddf2f7af6"
      },
      "outputs": [
        {
          "output_type": "stream",
          "name": "stdout",
          "text": [
            "Mounted at /content/drive\n"
          ]
        },
        {
          "output_type": "execute_result",
          "data": {
            "text/plain": [
              "     GpsProvider           BookingID Market/Regular           BookingID_Date  \\\n",
              "0  CONSENT TRACK  MVCV0000927/082021          Market 2020-08-17 14:59:01.000   \n",
              "1        VAMOSYS  VCV00014271/082021         Regular 2020-08-27 16:22:22.827   \n",
              "2  CONSENT TRACK  VCV00014382/082021         Regular 2020-08-27 17:59:24.987   \n",
              "3        VAMOSYS  VCV00014743/082021         Regular 2020-08-28 00:48:24.503   \n",
              "4        VAMOSYS  VCV00014744/082021         Regular 2020-08-28 01:23:19.243   \n",
              "\n",
              "   vehicle_no                                    Origin_Location  \\\n",
              "0    KA590408               TVSLSL-PUZHAL-HUB,CHENNAI,TAMIL NADU   \n",
              "1  TN30BC5917  DAIMLER INDIA COMMERCIAL VEHICLES,KANCHIPURAM,...   \n",
              "2  TN22AR2748              LUCAS TVS LTD-PONDY,PONDY,PONDICHERRY   \n",
              "3  TN28AQ0781  DAIMLER INDIA COMMERCIAL VEHICLES,KANCHIPURAM,...   \n",
              "4   TN68F1722              LUCAS TVS LTD-PONDY,PONDY,PONDICHERRY   \n",
              "\n",
              "                                Destination_Location      Org_lat_lon  \\\n",
              "0       ASHOK LEYLAND PLANT 1- HOSUR,HOSUR,KARNATAKA  13.1550,80.1960   \n",
              "1  DAIMLER INDIA COMMERCIAL VEHICLES,KANCHIPURAM,...  12.8390,79.9540   \n",
              "2              LUCAS TVS LTD-PONDY,PONDY,PONDICHERRY  11.8710,79.7390   \n",
              "3  DAIMLER INDIA COMMERCIAL VEHICLES,KANCHIPURAM,...  12.8390,79.9540   \n",
              "4              LUCAS TVS LTD-PONDY,PONDY,PONDICHERRY  11.8720,79.6320   \n",
              "\n",
              "       Des_lat_lon      Data_Ping_time  ... TRANSPORTATION_DISTANCE_IN_KM  \\\n",
              "0  12.7400,77.8200 2020-08-24 00:05:09  ...                         320.0   \n",
              "1  12.8390,79.9540 2020-08-28 12:40:28  ...                         103.0   \n",
              "2  11.8710,79.7390 2020-08-28 09:05:09  ...                         300.0   \n",
              "3  12.8390,79.9540 2020-08-28 12:40:31  ...                          61.0   \n",
              "4  11.8720,79.6320 2020-08-28 12:40:29  ...                         240.0   \n",
              "\n",
              "  vehicleType Minimum_kms_to_be_covered_in_a_day Driver_Name  Driver_MobileNo  \\\n",
              "0         NaN                                NaN         NaN              NaN   \n",
              "1         NaN                                NaN      RAMESH              NaN   \n",
              "2         NaN                                NaN        GIRI              NaN   \n",
              "3         NaN                                NaN        RAVI              NaN   \n",
              "4         NaN                                NaN       TAMIL              NaN   \n",
              "\n",
              "   customerID                          customerNameCode  supplierID  \\\n",
              "0  ALLEXCHE45                     Ashok leyland limited  VIJEXHOSR7   \n",
              "1  DMREXCHEUX  Daimler india commercial vehicles pvt lt  VJLEXSHE09   \n",
              "2  LUTGCCHE06                             Lucas tvs ltd  GSTEXLAK1Q   \n",
              "3  DMREXCHEUX  Daimler india commercial vehicles pvt lt  ARVEXNAM09   \n",
              "4  LUTGCCHE06                             Lucas tvs ltd  SRTEXKOR96   \n",
              "\n",
              "    supplierNameCode          Material Shipped  \n",
              "0    VIJAY TRANSPORT     BRACKET / GRAB HANDLE  \n",
              "1       VJ LOGISTICS     ZB MODEL PLATE / 3143  \n",
              "2     G.S. TRANSPORT          LETTERING / FUSO  \n",
              "3  ARVINTH TRANSPORT  LU STRUT RA / RADIUS ROD  \n",
              "4      SR TRANSPORTS      WISHBONE / V ROD/HDT  \n",
              "\n",
              "[5 rows x 32 columns]"
            ],
            "text/html": [
              "\n",
              "  <div id=\"df-b9081488-78f2-4987-b974-805d4aa13dd1\" class=\"colab-df-container\">\n",
              "    <div>\n",
              "<style scoped>\n",
              "    .dataframe tbody tr th:only-of-type {\n",
              "        vertical-align: middle;\n",
              "    }\n",
              "\n",
              "    .dataframe tbody tr th {\n",
              "        vertical-align: top;\n",
              "    }\n",
              "\n",
              "    .dataframe thead th {\n",
              "        text-align: right;\n",
              "    }\n",
              "</style>\n",
              "<table border=\"1\" class=\"dataframe\">\n",
              "  <thead>\n",
              "    <tr style=\"text-align: right;\">\n",
              "      <th></th>\n",
              "      <th>GpsProvider</th>\n",
              "      <th>BookingID</th>\n",
              "      <th>Market/Regular</th>\n",
              "      <th>BookingID_Date</th>\n",
              "      <th>vehicle_no</th>\n",
              "      <th>Origin_Location</th>\n",
              "      <th>Destination_Location</th>\n",
              "      <th>Org_lat_lon</th>\n",
              "      <th>Des_lat_lon</th>\n",
              "      <th>Data_Ping_time</th>\n",
              "      <th>...</th>\n",
              "      <th>TRANSPORTATION_DISTANCE_IN_KM</th>\n",
              "      <th>vehicleType</th>\n",
              "      <th>Minimum_kms_to_be_covered_in_a_day</th>\n",
              "      <th>Driver_Name</th>\n",
              "      <th>Driver_MobileNo</th>\n",
              "      <th>customerID</th>\n",
              "      <th>customerNameCode</th>\n",
              "      <th>supplierID</th>\n",
              "      <th>supplierNameCode</th>\n",
              "      <th>Material Shipped</th>\n",
              "    </tr>\n",
              "  </thead>\n",
              "  <tbody>\n",
              "    <tr>\n",
              "      <th>0</th>\n",
              "      <td>CONSENT TRACK</td>\n",
              "      <td>MVCV0000927/082021</td>\n",
              "      <td>Market</td>\n",
              "      <td>2020-08-17 14:59:01.000</td>\n",
              "      <td>KA590408</td>\n",
              "      <td>TVSLSL-PUZHAL-HUB,CHENNAI,TAMIL NADU</td>\n",
              "      <td>ASHOK LEYLAND PLANT 1- HOSUR,HOSUR,KARNATAKA</td>\n",
              "      <td>13.1550,80.1960</td>\n",
              "      <td>12.7400,77.8200</td>\n",
              "      <td>2020-08-24 00:05:09</td>\n",
              "      <td>...</td>\n",
              "      <td>320.0</td>\n",
              "      <td>NaN</td>\n",
              "      <td>NaN</td>\n",
              "      <td>NaN</td>\n",
              "      <td>NaN</td>\n",
              "      <td>ALLEXCHE45</td>\n",
              "      <td>Ashok leyland limited</td>\n",
              "      <td>VIJEXHOSR7</td>\n",
              "      <td>VIJAY TRANSPORT</td>\n",
              "      <td>BRACKET / GRAB HANDLE</td>\n",
              "    </tr>\n",
              "    <tr>\n",
              "      <th>1</th>\n",
              "      <td>VAMOSYS</td>\n",
              "      <td>VCV00014271/082021</td>\n",
              "      <td>Regular</td>\n",
              "      <td>2020-08-27 16:22:22.827</td>\n",
              "      <td>TN30BC5917</td>\n",
              "      <td>DAIMLER INDIA COMMERCIAL VEHICLES,KANCHIPURAM,...</td>\n",
              "      <td>DAIMLER INDIA COMMERCIAL VEHICLES,KANCHIPURAM,...</td>\n",
              "      <td>12.8390,79.9540</td>\n",
              "      <td>12.8390,79.9540</td>\n",
              "      <td>2020-08-28 12:40:28</td>\n",
              "      <td>...</td>\n",
              "      <td>103.0</td>\n",
              "      <td>NaN</td>\n",
              "      <td>NaN</td>\n",
              "      <td>RAMESH</td>\n",
              "      <td>NaN</td>\n",
              "      <td>DMREXCHEUX</td>\n",
              "      <td>Daimler india commercial vehicles pvt lt</td>\n",
              "      <td>VJLEXSHE09</td>\n",
              "      <td>VJ LOGISTICS</td>\n",
              "      <td>ZB MODEL PLATE / 3143</td>\n",
              "    </tr>\n",
              "    <tr>\n",
              "      <th>2</th>\n",
              "      <td>CONSENT TRACK</td>\n",
              "      <td>VCV00014382/082021</td>\n",
              "      <td>Regular</td>\n",
              "      <td>2020-08-27 17:59:24.987</td>\n",
              "      <td>TN22AR2748</td>\n",
              "      <td>LUCAS TVS LTD-PONDY,PONDY,PONDICHERRY</td>\n",
              "      <td>LUCAS TVS LTD-PONDY,PONDY,PONDICHERRY</td>\n",
              "      <td>11.8710,79.7390</td>\n",
              "      <td>11.8710,79.7390</td>\n",
              "      <td>2020-08-28 09:05:09</td>\n",
              "      <td>...</td>\n",
              "      <td>300.0</td>\n",
              "      <td>NaN</td>\n",
              "      <td>NaN</td>\n",
              "      <td>GIRI</td>\n",
              "      <td>NaN</td>\n",
              "      <td>LUTGCCHE06</td>\n",
              "      <td>Lucas tvs ltd</td>\n",
              "      <td>GSTEXLAK1Q</td>\n",
              "      <td>G.S. TRANSPORT</td>\n",
              "      <td>LETTERING / FUSO</td>\n",
              "    </tr>\n",
              "    <tr>\n",
              "      <th>3</th>\n",
              "      <td>VAMOSYS</td>\n",
              "      <td>VCV00014743/082021</td>\n",
              "      <td>Regular</td>\n",
              "      <td>2020-08-28 00:48:24.503</td>\n",
              "      <td>TN28AQ0781</td>\n",
              "      <td>DAIMLER INDIA COMMERCIAL VEHICLES,KANCHIPURAM,...</td>\n",
              "      <td>DAIMLER INDIA COMMERCIAL VEHICLES,KANCHIPURAM,...</td>\n",
              "      <td>12.8390,79.9540</td>\n",
              "      <td>12.8390,79.9540</td>\n",
              "      <td>2020-08-28 12:40:31</td>\n",
              "      <td>...</td>\n",
              "      <td>61.0</td>\n",
              "      <td>NaN</td>\n",
              "      <td>NaN</td>\n",
              "      <td>RAVI</td>\n",
              "      <td>NaN</td>\n",
              "      <td>DMREXCHEUX</td>\n",
              "      <td>Daimler india commercial vehicles pvt lt</td>\n",
              "      <td>ARVEXNAM09</td>\n",
              "      <td>ARVINTH TRANSPORT</td>\n",
              "      <td>LU STRUT RA / RADIUS ROD</td>\n",
              "    </tr>\n",
              "    <tr>\n",
              "      <th>4</th>\n",
              "      <td>VAMOSYS</td>\n",
              "      <td>VCV00014744/082021</td>\n",
              "      <td>Regular</td>\n",
              "      <td>2020-08-28 01:23:19.243</td>\n",
              "      <td>TN68F1722</td>\n",
              "      <td>LUCAS TVS LTD-PONDY,PONDY,PONDICHERRY</td>\n",
              "      <td>LUCAS TVS LTD-PONDY,PONDY,PONDICHERRY</td>\n",
              "      <td>11.8720,79.6320</td>\n",
              "      <td>11.8720,79.6320</td>\n",
              "      <td>2020-08-28 12:40:29</td>\n",
              "      <td>...</td>\n",
              "      <td>240.0</td>\n",
              "      <td>NaN</td>\n",
              "      <td>NaN</td>\n",
              "      <td>TAMIL</td>\n",
              "      <td>NaN</td>\n",
              "      <td>LUTGCCHE06</td>\n",
              "      <td>Lucas tvs ltd</td>\n",
              "      <td>SRTEXKOR96</td>\n",
              "      <td>SR TRANSPORTS</td>\n",
              "      <td>WISHBONE / V ROD/HDT</td>\n",
              "    </tr>\n",
              "  </tbody>\n",
              "</table>\n",
              "<p>5 rows × 32 columns</p>\n",
              "</div>\n",
              "    <div class=\"colab-df-buttons\">\n",
              "\n",
              "  <div class=\"colab-df-container\">\n",
              "    <button class=\"colab-df-convert\" onclick=\"convertToInteractive('df-b9081488-78f2-4987-b974-805d4aa13dd1')\"\n",
              "            title=\"Convert this dataframe to an interactive table.\"\n",
              "            style=\"display:none;\">\n",
              "\n",
              "  <svg xmlns=\"http://www.w3.org/2000/svg\" height=\"24px\" viewBox=\"0 -960 960 960\">\n",
              "    <path d=\"M120-120v-720h720v720H120Zm60-500h600v-160H180v160Zm220 220h160v-160H400v160Zm0 220h160v-160H400v160ZM180-400h160v-160H180v160Zm440 0h160v-160H620v160ZM180-180h160v-160H180v160Zm440 0h160v-160H620v160Z\"/>\n",
              "  </svg>\n",
              "    </button>\n",
              "\n",
              "  <style>\n",
              "    .colab-df-container {\n",
              "      display:flex;\n",
              "      gap: 12px;\n",
              "    }\n",
              "\n",
              "    .colab-df-convert {\n",
              "      background-color: #E8F0FE;\n",
              "      border: none;\n",
              "      border-radius: 50%;\n",
              "      cursor: pointer;\n",
              "      display: none;\n",
              "      fill: #1967D2;\n",
              "      height: 32px;\n",
              "      padding: 0 0 0 0;\n",
              "      width: 32px;\n",
              "    }\n",
              "\n",
              "    .colab-df-convert:hover {\n",
              "      background-color: #E2EBFA;\n",
              "      box-shadow: 0px 1px 2px rgba(60, 64, 67, 0.3), 0px 1px 3px 1px rgba(60, 64, 67, 0.15);\n",
              "      fill: #174EA6;\n",
              "    }\n",
              "\n",
              "    .colab-df-buttons div {\n",
              "      margin-bottom: 4px;\n",
              "    }\n",
              "\n",
              "    [theme=dark] .colab-df-convert {\n",
              "      background-color: #3B4455;\n",
              "      fill: #D2E3FC;\n",
              "    }\n",
              "\n",
              "    [theme=dark] .colab-df-convert:hover {\n",
              "      background-color: #434B5C;\n",
              "      box-shadow: 0px 1px 3px 1px rgba(0, 0, 0, 0.15);\n",
              "      filter: drop-shadow(0px 1px 2px rgba(0, 0, 0, 0.3));\n",
              "      fill: #FFFFFF;\n",
              "    }\n",
              "  </style>\n",
              "\n",
              "    <script>\n",
              "      const buttonEl =\n",
              "        document.querySelector('#df-b9081488-78f2-4987-b974-805d4aa13dd1 button.colab-df-convert');\n",
              "      buttonEl.style.display =\n",
              "        google.colab.kernel.accessAllowed ? 'block' : 'none';\n",
              "\n",
              "      async function convertToInteractive(key) {\n",
              "        const element = document.querySelector('#df-b9081488-78f2-4987-b974-805d4aa13dd1');\n",
              "        const dataTable =\n",
              "          await google.colab.kernel.invokeFunction('convertToInteractive',\n",
              "                                                    [key], {});\n",
              "        if (!dataTable) return;\n",
              "\n",
              "        const docLinkHtml = 'Like what you see? Visit the ' +\n",
              "          '<a target=\"_blank\" href=https://colab.research.google.com/notebooks/data_table.ipynb>data table notebook</a>'\n",
              "          + ' to learn more about interactive tables.';\n",
              "        element.innerHTML = '';\n",
              "        dataTable['output_type'] = 'display_data';\n",
              "        await google.colab.output.renderOutput(dataTable, element);\n",
              "        const docLink = document.createElement('div');\n",
              "        docLink.innerHTML = docLinkHtml;\n",
              "        element.appendChild(docLink);\n",
              "      }\n",
              "    </script>\n",
              "  </div>\n",
              "\n",
              "\n",
              "    <div id=\"df-d9446ff7-e296-4218-a36c-9428bb2aaab3\">\n",
              "      <button class=\"colab-df-quickchart\" onclick=\"quickchart('df-d9446ff7-e296-4218-a36c-9428bb2aaab3')\"\n",
              "                title=\"Suggest charts\"\n",
              "                style=\"display:none;\">\n",
              "\n",
              "<svg xmlns=\"http://www.w3.org/2000/svg\" height=\"24px\"viewBox=\"0 0 24 24\"\n",
              "     width=\"24px\">\n",
              "    <g>\n",
              "        <path d=\"M19 3H5c-1.1 0-2 .9-2 2v14c0 1.1.9 2 2 2h14c1.1 0 2-.9 2-2V5c0-1.1-.9-2-2-2zM9 17H7v-7h2v7zm4 0h-2V7h2v10zm4 0h-2v-4h2v4z\"/>\n",
              "    </g>\n",
              "</svg>\n",
              "      </button>\n",
              "\n",
              "<style>\n",
              "  .colab-df-quickchart {\n",
              "      --bg-color: #E8F0FE;\n",
              "      --fill-color: #1967D2;\n",
              "      --hover-bg-color: #E2EBFA;\n",
              "      --hover-fill-color: #174EA6;\n",
              "      --disabled-fill-color: #AAA;\n",
              "      --disabled-bg-color: #DDD;\n",
              "  }\n",
              "\n",
              "  [theme=dark] .colab-df-quickchart {\n",
              "      --bg-color: #3B4455;\n",
              "      --fill-color: #D2E3FC;\n",
              "      --hover-bg-color: #434B5C;\n",
              "      --hover-fill-color: #FFFFFF;\n",
              "      --disabled-bg-color: #3B4455;\n",
              "      --disabled-fill-color: #666;\n",
              "  }\n",
              "\n",
              "  .colab-df-quickchart {\n",
              "    background-color: var(--bg-color);\n",
              "    border: none;\n",
              "    border-radius: 50%;\n",
              "    cursor: pointer;\n",
              "    display: none;\n",
              "    fill: var(--fill-color);\n",
              "    height: 32px;\n",
              "    padding: 0;\n",
              "    width: 32px;\n",
              "  }\n",
              "\n",
              "  .colab-df-quickchart:hover {\n",
              "    background-color: var(--hover-bg-color);\n",
              "    box-shadow: 0 1px 2px rgba(60, 64, 67, 0.3), 0 1px 3px 1px rgba(60, 64, 67, 0.15);\n",
              "    fill: var(--button-hover-fill-color);\n",
              "  }\n",
              "\n",
              "  .colab-df-quickchart-complete:disabled,\n",
              "  .colab-df-quickchart-complete:disabled:hover {\n",
              "    background-color: var(--disabled-bg-color);\n",
              "    fill: var(--disabled-fill-color);\n",
              "    box-shadow: none;\n",
              "  }\n",
              "\n",
              "  .colab-df-spinner {\n",
              "    border: 2px solid var(--fill-color);\n",
              "    border-color: transparent;\n",
              "    border-bottom-color: var(--fill-color);\n",
              "    animation:\n",
              "      spin 1s steps(1) infinite;\n",
              "  }\n",
              "\n",
              "  @keyframes spin {\n",
              "    0% {\n",
              "      border-color: transparent;\n",
              "      border-bottom-color: var(--fill-color);\n",
              "      border-left-color: var(--fill-color);\n",
              "    }\n",
              "    20% {\n",
              "      border-color: transparent;\n",
              "      border-left-color: var(--fill-color);\n",
              "      border-top-color: var(--fill-color);\n",
              "    }\n",
              "    30% {\n",
              "      border-color: transparent;\n",
              "      border-left-color: var(--fill-color);\n",
              "      border-top-color: var(--fill-color);\n",
              "      border-right-color: var(--fill-color);\n",
              "    }\n",
              "    40% {\n",
              "      border-color: transparent;\n",
              "      border-right-color: var(--fill-color);\n",
              "      border-top-color: var(--fill-color);\n",
              "    }\n",
              "    60% {\n",
              "      border-color: transparent;\n",
              "      border-right-color: var(--fill-color);\n",
              "    }\n",
              "    80% {\n",
              "      border-color: transparent;\n",
              "      border-right-color: var(--fill-color);\n",
              "      border-bottom-color: var(--fill-color);\n",
              "    }\n",
              "    90% {\n",
              "      border-color: transparent;\n",
              "      border-bottom-color: var(--fill-color);\n",
              "    }\n",
              "  }\n",
              "</style>\n",
              "\n",
              "      <script>\n",
              "        async function quickchart(key) {\n",
              "          const quickchartButtonEl =\n",
              "            document.querySelector('#' + key + ' button');\n",
              "          quickchartButtonEl.disabled = true;  // To prevent multiple clicks.\n",
              "          quickchartButtonEl.classList.add('colab-df-spinner');\n",
              "          try {\n",
              "            const charts = await google.colab.kernel.invokeFunction(\n",
              "                'suggestCharts', [key], {});\n",
              "          } catch (error) {\n",
              "            console.error('Error during call to suggestCharts:', error);\n",
              "          }\n",
              "          quickchartButtonEl.classList.remove('colab-df-spinner');\n",
              "          quickchartButtonEl.classList.add('colab-df-quickchart-complete');\n",
              "        }\n",
              "        (() => {\n",
              "          let quickchartButtonEl =\n",
              "            document.querySelector('#df-d9446ff7-e296-4218-a36c-9428bb2aaab3 button');\n",
              "          quickchartButtonEl.style.display =\n",
              "            google.colab.kernel.accessAllowed ? 'block' : 'none';\n",
              "        })();\n",
              "      </script>\n",
              "    </div>\n",
              "\n",
              "    </div>\n",
              "  </div>\n"
            ],
            "application/vnd.google.colaboratory.intrinsic+json": {
              "type": "dataframe",
              "variable_name": "df"
            }
          },
          "metadata": {},
          "execution_count": 1
        }
      ],
      "source": [
        "from google.colab import drive\n",
        "import pandas as pd\n",
        "\n",
        "drive.mount('/content/drive')\n",
        "file_path = '/content/drive/My Drive/Fleet & Logistics/Delivery truck trip data.xlsx'\n",
        "df = pd.read_excel(file_path)\n",
        "df.head()\n"
      ]
    },
    {
      "cell_type": "markdown",
      "source": [
        "** Step 2: Data Cleaning & Feature Creation**"
      ],
      "metadata": {
        "id": "eZUo0PCrx3OG"
      }
    },
    {
      "cell_type": "code",
      "source": [
        "# Convert dates\n",
        "df['Planned_ETA'] = pd.to_datetime(df['Planned_ETA'])\n",
        "df['actual_eta'] = pd.to_datetime(df['actual_eta'])\n",
        "\n",
        "# Delay in minutes\n",
        "df['delay_minutes'] = (df['actual_eta'] - df['Planned_ETA']).dt.total_seconds() / 60\n",
        "\n",
        "# Label as delayed if delay > 15 minutes\n",
        "df['is_delayed'] = df['delay_minutes'] > 15\n"
      ],
      "metadata": {
        "id": "O5nKywyqyrX1"
      },
      "execution_count": 4,
      "outputs": []
    },
    {
      "cell_type": "markdown",
      "source": [
        "**3. Model Dataset Preparation**"
      ],
      "metadata": {
        "id": "oDkT2u80yv_t"
      }
    },
    {
      "cell_type": "code",
      "source": [
        "# Features for prediction\n",
        "X = df[['TRANSPORTATION_DISTANCE_IN_KM', 'Minimum_kms_to_be_covered_in_a_day']]\n",
        "y = df['is_delayed']\n",
        "\n",
        "from sklearn.model_selection import train_test_split\n",
        "X_train, X_test, y_train, y_test = train_test_split(X, y, test_size=0.3, random_state=42)\n"
      ],
      "metadata": {
        "id": "oCluZUjTyyO6"
      },
      "execution_count": 5,
      "outputs": []
    },
    {
      "cell_type": "markdown",
      "source": [
        "**4. Train a Logistic Regression Model**"
      ],
      "metadata": {
        "id": "29akYbjGy2G5"
      }
    },
    {
      "source": [
        "# Drop duplicates and fill missing values\n",
        "df.drop_duplicates(inplace=True)\n",
        "df.fillna(method='ffill', inplace=True)\n",
        "\n",
        "# Convert dates\n",
        "df['Planned_ETA'] = pd.to_datetime(df['Planned_ETA'])\n",
        "df['actual_eta'] = pd.to_datetime(df['actual_eta'])\n",
        "\n",
        "# Delay in minutes\n",
        "df['delay_minutes'] = (df['actual_eta'] - df['Planned_ETA']).dt.total_seconds() / 60\n",
        "\n",
        "# Label as delayed if delay > 15 minutes\n",
        "df['is_delayed'] = df['delay_minutes'] > 15\n",
        "\n",
        "# Features for prediction\n",
        "X = df[['TRANSPORTATION_DISTANCE_IN_KM', 'Minimum_kms_to_be_covered_in_a_day']]\n",
        "y = df['is_delayed']\n",
        "\n",
        "from sklearn.model_selection import train_test_split\n",
        "X_train, X_test, y_train, y_test = train_test_split(X, y, test_size=0.3, random_state=42)\n",
        "\n",
        "from sklearn.linear_model import LogisticRegression\n",
        "from sklearn.impute import SimpleImputer # Import SimpleImputer\n",
        "\n",
        "# Create an imputer to fill NaN values with the mean\n",
        "imputer = SimpleImputer(strategy='mean')\n",
        "\n",
        "# Fit the imputer on the training data and transform both training and testing data\n",
        "X_train = imputer.fit_transform(X_train) # Fit and transform on X_train\n",
        "X_test = imputer.transform(X_test) # Transform X_test\n",
        "\n",
        "model = LogisticRegression()\n",
        "model.fit(X_train, y_train)\n",
        "\n",
        "y_probs = model.predict_proba(X_test)[:, 1]"
      ],
      "cell_type": "code",
      "metadata": {
        "colab": {
          "base_uri": "https://localhost:8080/"
        },
        "id": "edOB2DQ6zD5S",
        "outputId": "29038b95-bf41-4484-f8ae-9aafea0d1047"
      },
      "execution_count": 7,
      "outputs": [
        {
          "output_type": "stream",
          "name": "stderr",
          "text": [
            "<ipython-input-7-ef0e975a4b6e>:3: FutureWarning: DataFrame.fillna with 'method' is deprecated and will raise in a future version. Use obj.ffill() or obj.bfill() instead.\n",
            "  df.fillna(method='ffill', inplace=True)\n"
          ]
        }
      ]
    },
    {
      "cell_type": "markdown",
      "source": [
        "**5. Visualize Prediction Uncertainty**"
      ],
      "metadata": {
        "id": "bhDdVitvzOPS"
      }
    },
    {
      "cell_type": "code",
      "source": [
        "import matplotlib.pyplot as plt\n",
        "\n",
        "plt.hist(y_probs, bins=20, color='gold', edgecolor='black')\n",
        "plt.title(\"Uncertainty in Delay Prediction\")\n",
        "plt.xlabel(\"Predicted Probability of Delay\")\n",
        "plt.ylabel(\"Number of Trips\")\n",
        "plt.show()\n"
      ],
      "metadata": {
        "colab": {
          "base_uri": "https://localhost:8080/",
          "height": 472
        },
        "id": "fMta4NNnzTk5",
        "outputId": "9e68aabe-d3c5-4f88-ac68-321d6997fc5f"
      },
      "execution_count": 8,
      "outputs": [
        {
          "output_type": "display_data",
          "data": {
            "text/plain": [
              "<Figure size 640x480 with 1 Axes>"
            ],
            "image/png": "[encoded data removed]"
          },
          "metadata": {}
        }
      ]
    },
    {
      "cell_type": "markdown",
      "source": [
        "** Interpretation of the Histogram**\n",
        "\n",
        "The chart shows the distribution of predicted delay probabilities for delivery trips. Most predictions cluster sharply around 0.65, indicating the model often predicts a moderate chance of delay. This peak reflects high uncertainty, as it suggests the model isn't confident whether those trips will be delayed or not.\n",
        "\n",
        "A smaller number of trips are confidently predicted (e.g., near 0.25 or 0.85), where the model is more certain about delay likelihood.\n",
        "\n",
        "**⚙️ Operational Significance**\n",
        "\n",
        "This insight helps fleet managers:\n",
        "\n",
        "- Flag borderline trips for closer review or buffer time.\n",
        "\n",
        "- Prioritize dispatching resources for trips with high uncertainty.\n",
        "\n",
        "- Improve trust in AI predictions by showing where the model is uncertain."
      ],
      "metadata": {
        "id": "CWXHIZmR1pgR"
      }
    },
    {
      "cell_type": "markdown",
      "source": [
        "**6. Interpret with SHAP for Transparency**"
      ],
      "metadata": {
        "id": "UHyaReBPzbgl"
      }
    },
    {
      "cell_type": "code",
      "source": [
        "import shap\n",
        "explainer = shap.Explainer(model, X_train)\n",
        "shap_values = explainer(X_test)\n",
        "\n",
        "shap.summary_plot(shap_values, X_test)\n"
      ],
      "metadata": {
        "colab": {
          "base_uri": "https://localhost:8080/",
          "height": 236
        },
        "id": "zBN6SC0nzed5",
        "outputId": "7c704fb5-2526-4cf8-f237-8286076640bb"
      },
      "execution_count": 9,
      "outputs": [
        {
          "output_type": "display_data",
          "data": {
            "text/plain": [
              "<Figure size 800x230 with 2 Axes>"
            ],
            "image/png": "[encoded data removed]"
          },
          "metadata": {}
        }
      ]
    },
    {
      "cell_type": "markdown",
      "source": [
        "**SHAP Summary Overview**\n",
        "\n",
        "The SHAP plot shows how two features impact delivery delay predictions. The x-axis represents the SHAP value (impact on model output), while the color indicates feature value (blue = low, red = high).\n",
        "\n",
        "🚚 **Feature 0: Transportation Distance**\n",
        "\n",
        "This feature has a modest effect. High distances slightly increase delay risk, but most values cluster near zero, suggesting distance alone isn't a strong delay driver. However, longer trips still warrant buffer planning.\n",
        "\n",
        "**📉 Feature 1: Minimum KM per Day**\n",
        "\n",
        "This has a stronger influence. Lower daily distance targets (blue dots) lead to significantly higher delay predictions. It suggests underutilized routes or inefficiencies that may result in missed deadlines. Optimizing daily targets could improve reliability.\n",
        "\n",
        "⚙️** Operational Insight**\n",
        "\n",
        "SHAP reveals that low performance expectations are more predictive of delays than long trips. This guides smarter scheduling, target setting, and transparency in fleet AI systems."
      ],
      "metadata": {
        "id": "iL7Tq0xPzq_t"
      }
    },
    {
      "cell_type": "markdown",
      "source": [
        "**Challenges**"
      ],
      "metadata": {
        "id": "JjGCxqW9-2Ju"
      }
    },
    {
      "cell_type": "markdown",
      "source": [
        "- Highly imbalanced predictions near 0.65 indicate model uncertainty.\n",
        "\n",
        "- Limited feature diversity affects performance generalization.\n",
        "\n",
        "- Predicting delays accurately requires integrating external signals (weather, traffic, driver behavior)."
      ],
      "metadata": {
        "id": "aK7BmHYQ-6--"
      }
    },
    {
      "cell_type": "markdown",
      "source": [
        "**Problem Statement**"
      ],
      "metadata": {
        "id": "7Mj-Bo-9--dV"
      }
    },
    {
      "cell_type": "markdown",
      "source": [
        "Fleet managers lack an explainable system to anticipate delivery delays and assess confidence in AI decisions. This project aims to fill that gap using delay prediction with uncertainty modeling and SHAP-based transparency."
      ],
      "metadata": {
        "id": "Toqyk7oy_Ffi"
      }
    },
    {
      "cell_type": "markdown",
      "source": [
        "**Dataset**"
      ],
      "metadata": {
        "id": "SaQYCVlX_LMi"
      }
    },
    {
      "cell_type": "markdown",
      "source": [
        "Delivery Truck Trip Data\n",
        "Fields include:\n",
        "\n",
        "- Origin, Destination, Distance\n",
        "\n",
        "- Planned vs Actual ETA\n",
        "\n",
        "- Vehicle and Driver Info\n",
        "\n",
        "- Delay Flag, Performance Benchmarks\n",
        "\n"
      ],
      "metadata": {
        "id": "5eZL4rMN_Q56"
      }
    },
    {
      "cell_type": "markdown",
      "source": [
        "**Machine Learning Prediction & Outcomes**"
      ],
      "metadata": {
        "id": "kLUy3ct__Zk-"
      }
    },
    {
      "cell_type": "markdown",
      "source": [
        "**Histogram Interpretation**\n"
      ],
      "metadata": {
        "id": "b_vwKkBH_eee"
      }
    },
    {
      "cell_type": "markdown",
      "source": [
        "The delay probability distribution is skewed toward 0.65, showing high model uncertainty for many trips. Fewer trips fall near 0.25 or 0.85, where predictions are more confident. This suggests borderline cases are common and require close attention.\n"
      ],
      "metadata": {
        "id": "zdrmyBe7_lwm"
      }
    },
    {
      "cell_type": "markdown",
      "source": [
        "**SHAP Summary Interpretation**\n"
      ],
      "metadata": {
        "id": "6bIDbuC4_pgi"
      }
    },
    {
      "cell_type": "markdown",
      "source": [
        "- Transportation Distance (Feature 0): Slight positive impact on delay. Long routes raise delay risk slightly.\n"
      ],
      "metadata": {
        "id": "I581GAtD_xoe"
      }
    },
    {
      "cell_type": "markdown",
      "source": [
        "- Minimum KM/Day (Feature 1): Stronger predictor. Low targets significantly increase delay probability.\n"
      ],
      "metadata": {
        "id": "qK8ymmzG_0xK"
      }
    },
    {
      "cell_type": "markdown",
      "source": [
        "- Insight: Underutilized routes are more delay-prone than long routes, guiding better KPI calibration and scheduling."
      ],
      "metadata": {
        "id": "qhR7bSyN__Ea"
      }
    },
    {
      "cell_type": "markdown",
      "source": [
        "**Trailer Documentation**"
      ],
      "metadata": {
        "id": "AFWl3g7-AE3w"
      }
    },
    {
      "cell_type": "markdown",
      "source": [
        "This project showcases the value of uncertainty-aware modeling for real-world logistics. It supports smarter route decisions, resource allocation, and operational accountability using interpretable AI.\n",
        "\n"
      ],
      "metadata": {
        "id": "51Ugqnr0AK_O"
      }
    },
    {
      "cell_type": "markdown",
      "source": [
        "**Conceptual Enhancement – AGI (Artificial General Intelligence)**"
      ],
      "metadata": {
        "id": "fRwBwPxs_44n"
      }
    },
    {
      "cell_type": "markdown",
      "source": [
        "In future iterations, this system could integrate external dynamic data (weather, IoT sensor feeds, road closures), moving closer to AGI-like reasoning in logistics by enabling adaptive, self-improving delivery routing systems."
      ],
      "metadata": {
        "id": "_j7e84YLAU-e"
      }
    },
    {
      "cell_type": "markdown",
      "source": [
        "**Academic & Technical References**"
      ],
      "metadata": {
        "id": "uW7w0gTEA6TK"
      }
    },
    {
      "cell_type": "markdown",
      "source": [
        "1. SHAP (SHapley Additive exPlanations)\n",
        "Lundberg, S. M., & Lee, S. I. (2017). A Unified Approach to Interpreting Model Predictions.\n",
        "➤ https://arxiv.org/abs/1705.07874\n",
        "\n",
        "2. Uncertainty in Machine Learning\n",
        "Abdar, M., et al. (2021). A review of uncertainty quantification in deep learning: Techniques, applications and challenges.\n",
        "Information Fusion, Volume 76, 2021, pp. 243–297.\n",
        "➤ https://doi.org/10.1016/j.inffus.2021.05.008\n",
        "\n",
        "3. Logistic Regression for Classification\n",
        "Hosmer, D. W., Lemeshow, S., & Sturdivant, R. X. (2013). Applied Logistic Regression (3rd ed.). Wiley.\n",
        "\n",
        "4. AI in Logistics Optimization\n",
        "Accenture & DHL. (2018). Artificial Intelligence in Logistics: A collaborative report by DHL and IBM on implications and use cases for the logistics industry.\n",
        "➤ https://www.logistics.dhl/content/dam/dhl/global/core/documents/pdf/glo-core-ai-in-logistics.pdf\n",
        "\n"
      ],
      "metadata": {
        "id": "P5HWKBtfBCBq"
      }
    },
    {
      "cell_type": "code",
      "source": [],
      "metadata": {
        "id": "Ovug7Bql_PlS"
      },
      "execution_count": null,
      "outputs": []
    }
  ]
}